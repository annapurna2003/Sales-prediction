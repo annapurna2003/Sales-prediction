{
 "cells": [
  {
   "cell_type": "code",
   "execution_count": null,
   "metadata": {},
   "outputs": [],
   "source": [
    "import numpy as np # linear algebra\n",
    "import pandas as pd # data processing, CSV file I/O (e.g. pd.read_csv)\n",
    "import seaborn as sns; sns.set(style=\"ticks\", color_codes=True)\n",
    "from sklearn.model_selection import train_test_split\n",
    "from sklearn.ensemble import ExtraTreesRegressor, RandomForestRegressor\n",
    "from sklearn.neighbors import KNeighborsRegressor\n",
    "from sklearn.svm import SVR\n",
    "from sklearn.feature_selection import RFE\n",
    "from sklearn.neural_network import MLPRegressor\n",
    "from sklearn.metrics import mean_absolute_error\n",
    "from sklearn.model_selection import KFold\n",
    "import matplotlib.pyplot as plt\n",
    "import os"
   ]
  },
  {
   "cell_type": "code",
   "execution_count": null,
   "metadata": {},
   "outputs": [],
   "source": [
    "dataset = pd.read_csv(\"C:\\\\Users\\\\ANNAPURNA\\\\Downloads\\\\train.csv\", names=['Store','Dept','Date','weeklySales','isHoliday'],sep=',', header=0)\n",
    "features = pd.read_csv(\"C:\\\\Users\\\\ANNAPURNA\\\\Downloads\\\\features.csv\",sep=',', header=0,\n",
    "                       names=['Store','Date','Temperature','Fuel_Price','MarkDown1','MarkDown2','MarkDown3','MarkDown4',\n",
    "                              'MarkDown5','CPI','Unemployment','IsHoliday']).drop(columns=['IsHoliday'])\n",
    "stores = pd.read_csv(\"C:\\\\Users\\\\ANNAPURNA\\\\Downloads\\\\stores.csv\", names=['Store','Type','Size'],sep=',', header=0)\n",
    "dataset = dataset.merge(stores, how='left').merge(features, how='left')"
   ]
  },
  {
   "cell_type": "code",
   "execution_count": null,
   "metadata": {},
   "outputs": [],
   "source": [
    "dataset"
   ]
  },
  {
   "cell_type": "code",
   "execution_count": null,
   "metadata": {},
   "outputs": [],
   "source": [
    "def scatter(dataset, column):\n",
    "    plt.figure()\n",
    "    plt.scatter(dataset[column] , dataset['weeklySales'])\n",
    "    plt.ylabel('weeklySales')\n",
    "    plt.xlabel(column)"
   ]
  },
  {
   "cell_type": "code",
   "execution_count": null,
   "metadata": {},
   "outputs": [],
   "source": [
    "scatter(dataset, 'Fuel_Price')\n",
    "scatter(dataset, 'Size')\n",
    "scatter(dataset, 'CPI')\n",
    "scatter(dataset, 'Type')\n",
    "scatter(dataset, 'isHoliday')\n",
    "scatter(dataset, 'Unemployment')\n",
    "scatter(dataset, 'Temperature')\n",
    "scatter(dataset, 'Store')\n",
    "scatter(dataset, 'Dept')"
   ]
  },
  {
   "cell_type": "code",
   "execution_count": null,
   "metadata": {},
   "outputs": [],
   "source": [
    "fig = plt.figure(figsize=(18, 14))\n",
    "corr = dataset.corr()\n",
    "c = plt.pcolor(corr)\n",
    "plt.yticks(np.arange(0.5, len(corr.index), 1), corr.index)\n",
    "plt.xticks(np.arange(0.5, len(corr.columns), 1), corr.columns)\n",
    "fig.colorbar(c)"
   ]
  },
  {
   "cell_type": "code",
   "execution_count": null,
   "metadata": {},
   "outputs": [],
   "source": [
    "sns.pairplot(dataset, vars=['weeklySales', 'Fuel_Price', 'Size', 'CPI', 'Dept', 'Temperature', 'Unemployment'])\n",
    "sns.pairplot(dataset.fillna(0), vars=['weeklySales', 'MarkDown1', 'MarkDown2', 'MarkDown3', 'MarkDown4', 'MarkDown5'])"
   ]
  },
  {
   "cell_type": "code",
   "execution_count": null,
   "metadata": {},
   "outputs": [],
   "source": [
    "for name, group in dataset.groupby([\"Store\", \"Dept\"]):\n",
    "    plt.title(name)\n",
    "    plt.scatter(range(len(group)), group[\"weeklySales\"])\n",
    "    plt.show()\n",
    "    break"
   ]
  },
  {
   "cell_type": "code",
   "execution_count": null,
   "metadata": {},
   "outputs": [],
   "source": [
    "dataset = pd.get_dummies(dataset, columns=[\"Type\"])\n",
    "dataset[['MarkDown1','MarkDown2','MarkDown3','MarkDown4', 'MarkDown5']] = dataset[['MarkDown1','MarkDown2','MarkDown3','MarkDown4','MarkDown5']].fillna(0)\n",
    "dataset['Month'] = pd.to_datetime(dataset['Date']).dt.month\n",
    "dataset = dataset.drop(columns=[\"Date\", \"CPI\", \"Fuel_Price\", 'Unemployment', 'MarkDown3'])"
   ]
  },
  {
   "cell_type": "code",
   "execution_count": null,
   "metadata": {},
   "outputs": [],
   "source": [
    "def knn():\n",
    "    knn = KNeighborsRegressor(n_neighbors=10)\n",
    "    return knn"
   ]
  },
  {
   "cell_type": "code",
   "execution_count": null,
   "metadata": {},
   "outputs": [],
   "source": [
    "def extraTreesRegressor():\n",
    "    clf = ExtraTreesRegressor(n_estimators=100,max_features='auto', verbose=1, n_jobs=1)\n",
    "    return clf"
   ]
  },
  {
   "cell_type": "code",
   "execution_count": null,
   "metadata": {},
   "outputs": [],
   "source": [
    "def randomForestRegressor():\n",
    "    clf = RandomForestRegressor(n_estimators=100,max_features='log2', verbose=1)\n",
    "    return clf"
   ]
  },
  {
   "cell_type": "code",
   "execution_count": null,
   "metadata": {},
   "outputs": [],
   "source": [
    "def svm():\n",
    "    clf = SVR(kernel='rbf', gamma='auto')\n",
    "    return clf"
   ]
  },
  {
   "cell_type": "code",
   "execution_count": null,
   "metadata": {},
   "outputs": [],
   "source": [
    "def nn():\n",
    "    clf = MLPRegressor(hidden_layer_sizes=(10,),  activation='relu', verbose=3)\n",
    "    return clf"
   ]
  },
  {
   "cell_type": "code",
   "execution_count": null,
   "metadata": {},
   "outputs": [],
   "source": [
    "def predict_(m, test_x):\n",
    "    return pd.Series(m.predict(test_x))"
   ]
  },
  {
   "cell_type": "code",
   "execution_count": null,
   "metadata": {},
   "outputs": [],
   "source": [
    "def model_():\n",
    "    return extraTreesRegressor()"
   ]
  },
  {
   "cell_type": "code",
   "execution_count": null,
   "metadata": {},
   "outputs": [],
   "source": [
    "def train_(train_x, train_y):\n",
    "    m = model_()\n",
    "    m.fit(train_x, train_y)\n",
    "    return m"
   ]
  },
  {
   "cell_type": "code",
   "execution_count": null,
   "metadata": {},
   "outputs": [],
   "source": [
    "def train_and_predict(train_x, train_y, test_x):\n",
    "    m = train_(train_x, train_y)\n",
    "    return predict_(m, test_x), m"
   ]
  },
  {
   "cell_type": "code",
   "execution_count": null,
   "metadata": {},
   "outputs": [],
   "source": [
    "def calculate_error(test_y, predicted, weights):\n",
    "    return mean_absolute_error(test_y, predicted, sample_weight=weights)"
   ]
  },
  {
   "cell_type": "code",
   "execution_count": null,
   "metadata": {},
   "outputs": [],
   "source": [
    "kf = KFold(n_splits=5)\n",
    "splited = []"
   ]
  },
  {
   "cell_type": "code",
   "execution_count": null,
   "metadata": {},
   "outputs": [],
   "source": [
    "for name, group in dataset.groupby([\"Store\", \"Dept\"]):\n",
    "    group = group.reset_index(drop=True)\n",
    "    trains_x = []\n",
    "    trains_y = []\n",
    "    tests_x = []\n",
    "    tests_y = []\n",
    "    if group.shape[0] <= 5:\n",
    "        f = np.array(range(5))\n",
    "        np.random.shuffle(f)\n",
    "        group['fold'] = f[:group.shape[0]]\n",
    "        continue\n",
    "    fold = 0\n",
    "    for train_index, test_index in kf.split(group):\n",
    "        group.loc[test_index, 'fold'] = fold\n",
    "        fold += 1\n",
    "    splited.append(group)"
   ]
  },
  {
   "cell_type": "code",
   "execution_count": null,
   "metadata": {},
   "outputs": [],
   "source": [
    "splited = pd.concat(splited).reset_index(drop=True)"
   ]
  },
  {
   "cell_type": "code",
   "execution_count": null,
   "metadata": {},
   "outputs": [],
   "source": [
    "best_model = None\n",
    "error_cv = 0\n",
    "best_error = np.iinfo(np.int32).max"
   ]
  },
  {
   "cell_type": "code",
   "execution_count": null,
   "metadata": {},
   "outputs": [],
   "source": [
    "for fold in range(5):\n",
    "    dataset_train = splited.loc[splited['fold'] != fold]\n",
    "    dataset_test = splited.loc[splited['fold'] == fold]\n",
    "    train_y = dataset_train['weeklySales']\n",
    "    train_x = dataset_train.drop(columns=['weeklySales', 'fold'])\n",
    "    test_y = dataset_test['weeklySales']\n",
    "    test_x = dataset_test.drop(columns=['weeklySales', 'fold'])\n",
    "    print(dataset_train.shape, dataset_test.shape)\n",
    "    predicted, model = train_and_predict(train_x, train_y, test_x)\n",
    "    weights = test_x['isHoliday'].replace(True, 5).replace(False, 1)\n",
    "    error = calculate_error(test_y, predicted, weights)\n",
    "    error_cv += error\n",
    "    print(fold, error)\n",
    "    if error < best_error:\n",
    "        print('Find best model')\n",
    "        best_error = error\n",
    "        best_model = model\n",
    "error_cv /= 5"
   ]
  },
  {
   "cell_type": "code",
   "execution_count": null,
   "metadata": {},
   "outputs": [],
   "source": [
    "dataset_test = pd.read_csv(\"./test.csv\", names=['Store','Dept','Date','isHoliday'],sep=',', header=0)\n",
    "features = pd.read_csv(\"./features.csv\",sep=',', header=0,\n",
    "                       names=['Store','Date','Temperature','Fuel_Price','MarkDown1','MarkDown2','MarkDown3','MarkDown4',\n",
    "                              'MarkDown5','CPI','Unemployment','IsHoliday']).drop(columns=['IsHoliday'])\n",
    "stores = pd.read_csv(\"./stores.csv\", names=['Store','Type','Size'],sep=',', header=0)\n",
    "dataset_test = dataset_test.merge(stores, how='left').merge(features, how='left')"
   ]
  },
  {
   "cell_type": "code",
   "execution_count": null,
   "metadata": {},
   "outputs": [],
   "source": [
    "dataset_test = pd.get_dummies(dataset_test, columns=[\"Type\"])\n",
    "dataset_test[['MarkDown1','MarkDown2','MarkDown3','MarkDown4', 'MarkDown5']] = dataset_test[['MarkDown1','MarkDown2','MarkDown3','MarkDown4','MarkDown5']].fillna(0)\n",
    "dataset_test = dataset_test.fillna(0)\n",
    "column_date = dataset_test['Date']\n",
    "dataset_test['Month'] = pd.to_datetime(dataset_test['Date']).dt.month\n",
    "dataset_test = dataset_test.drop(columns=[\"Date\", \"CPI\", \"Fuel_Price\", 'Unemployment', 'MarkDown3'])\n",
    "dataset_test"
   ]
  },
  {
   "cell_type": "code",
   "execution_count": null,
   "metadata": {},
   "outputs": [],
   "source": [
    "predicted_test = best_model.predict(dataset_test)"
   ]
  },
  {
   "cell_type": "code",
   "execution_count": null,
   "metadata": {},
   "outputs": [],
   "source": [
    "predicted_test"
   ]
  }
 ],
 "metadata": {
  "kernelspec": {
   "display_name": "Python 3",
   "language": "python",
   "name": "python3"
  },
  "language_info": {
   "codemirror_mode": {
    "name": "ipython",
    "version": 3
   },
   "file_extension": ".py",
   "mimetype": "text/x-python",
   "name": "python",
   "nbconvert_exporter": "python",
   "pygments_lexer": "ipython3",
   "version": "3.8.3"
  }
 },
 "nbformat": 4,
 "nbformat_minor": 4
}
